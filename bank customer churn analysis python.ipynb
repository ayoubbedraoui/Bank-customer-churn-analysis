{
 "cells": [
  {
   "cell_type": "code",
   "execution_count": null,
   "metadata": {},
   "outputs": [],
   "source": [
    "import pandas as pd\n",
    "from sklearn.preprocessing import StandardScaler\n",
    "\n",
    "\n",
    "# Load the dataset\n",
    "data = pd.read_csv(\"Bank Customer Churn Prediction.csv\")\n",
    "\n",
    "# Display the first few rows and summary info\n",
    "data.head(30)"
   ]
  },
  {
   "cell_type": "code",
   "execution_count": null,
   "metadata": {},
   "outputs": [],
   "source": [
    "# Data Cleaning\n",
    "# Checking for duplicates and missing values\n",
    "\n",
    "# Remove duplicates\n",
    "data_cleaned = data.drop_duplicates()\n",
    "\n",
    "# Check for missing values in the dataset\n",
    "missing_values = data_cleaned.isnull().sum()\n",
    "\n",
    "# Data Transformation\n",
    "# Adding new features: categorize age into bins and create income brackets for better segmentation\n",
    "\n",
    "# Define age categories\n",
    "age_bins = [18, 30, 45, 60, 80]  # Arbitrary age bins\n",
    "age_labels = [\"18-30\", \"31-45\", \"46-60\", \"60+\"]\n",
    "data_cleaned['age_group'] = pd.cut(data_cleaned['age'], bins=age_bins, labels=age_labels, right=False)\n",
    "\n",
    "# Define income brackets\n",
    "income_bins = [0, 50000, 100000, 150000, 200000]\n",
    "income_labels = [\"Low\", \"Medium\", \"High\", \"Very High\"]\n",
    "data_cleaned['income_bracket'] = pd.cut(data_cleaned['estimated_salary'], bins=income_bins, labels=income_labels, right=False)\n",
    "\n",
    "# Display the processed data and any missing values found\n",
    "data_cleaned.head(), missing_values\n",
    "\n"
   ]
  }
 ],
 "metadata": {
  "kernelspec": {
   "display_name": "base",
   "language": "python",
   "name": "python3"
  },
  "language_info": {
   "name": "python",
   "version": "3.9.12"
  }
 },
 "nbformat": 4,
 "nbformat_minor": 2
}
